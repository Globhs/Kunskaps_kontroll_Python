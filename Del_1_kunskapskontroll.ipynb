{
 "cells": [
  {
   "cell_type": "markdown",
   "id": "a195d537-b9a8-42de-99aa-7601fa6af024",
   "metadata": {},
   "source": [
    "# 1. Vad är skillnaden på en tuple och list i Python? Är den ena datatypen bättre än den andra? "
   ]
  },
  {
   "cell_type": "markdown",
   "id": "1258173f-ec45-4776-ab4a-32029646c1b8",
   "metadata": {},
   "source": [
    "En lista är mutuable och en tuple an unmutable."
   ]
  },
  {
   "cell_type": "markdown",
   "id": "0a852b63-cbba-452c-a7c3-390f6c1aaf43",
   "metadata": {},
   "source": [
    "# 2. Vad är en funktion för något? Varför kan funktioner vara användbara?"
   ]
  },
  {
   "cell_type": "code",
   "execution_count": null,
   "id": "c75d04fa-068d-44d6-8f38-13eeda3434f1",
   "metadata": {},
   "outputs": [],
   "source": [
    "En funktion är en eller fler rader kod som exekveras när funnktionen blir kallad.\n",
    "Man använder funktioner för att inte behöva repetera kod flera gånger."
   ]
  },
  {
   "cell_type": "markdown",
   "id": "bbff1a28-dd36-4451-801d-cdc2eaf20b0a",
   "metadata": {},
   "source": [
    "# 3. Förklara vad nedanstående begrepp, kopplat till klasser, betyder:\n"
   ]
  },
  {
   "cell_type": "code",
   "execution_count": 2,
   "id": "acfcd9a4-5928-435d-a522-7ec0b7d53063",
   "metadata": {},
   "outputs": [],
   "source": [
    "# a) Instans\n",
    "\n",
    "\n",
    "# b) Attribut\n",
    "\n",
    "\n",
    "# c) Metod\n",
    "\n"
   ]
  },
  {
   "cell_type": "markdown",
   "id": "3adcd153-f8a0-49e8-9adf-de4841ba300f",
   "metadata": {},
   "source": [
    "# 4. Vad är Streamlit för något? "
   ]
  },
  {
   "cell_type": "code",
   "execution_count": null,
   "id": "3f7be77c-81da-4235-a694-4b15512ecb0d",
   "metadata": {},
   "outputs": [],
   "source": []
  },
  {
   "cell_type": "markdown",
   "id": "debcc043-601f-4a83-85b8-67039f9a5bf1",
   "metadata": {},
   "source": [
    "# 5. I Python ska du nu:\n",
    "a) Skapa en klass som heter BankAccount. Klassen skall ha attributet \"account_holder\"\n",
    "som visar kontoinnehavarens namn samt attributet \"balance\" som visar\n",
    "kontoinnehavarens balans. Klassen skall ha metoden \"deposit()\" för att kunna sätta in\n",
    "pengar på kontot samt metoden \"withdraw()\" för att kunna ta ut pengar från kontot. Om\n",
    "bankinnehavaren försöker ta ut mer pengar än vad som finns på kontot skall\n",
    "meddelandet \"Too low balance\" printas ut."
   ]
  },
  {
   "cell_type": "code",
   "execution_count": null,
   "id": "7984fb5b-c7b2-42c1-bf63-32128e933c7f",
   "metadata": {},
   "outputs": [],
   "source": []
  },
  {
   "cell_type": "markdown",
   "id": "0aae805e-1ac0-4e3b-b446-593035f3512b",
   "metadata": {},
   "source": [
    "# 6.\n",
    "b) Skapa en instans av klassen och testa så klassen funkar så som du förväntar dig. Du\n",
    "kan till exempel prova printa ut attributen, sätta in pengar och ta ut pengar.\n",
    "På intervjuer brukar ibland kodtest genomföras. Här är ett exempel på en fråga som hade\n",
    "kunnat dyka upp på ett kodtest.\n",
    "Skapa en Python funktion som beräknar antalet vokaler i en sträng. Vokalerna är:\n",
    "A, E, I, O, U, Y, Å, Ä och Ö.\n",
    "Exempelvis: vowel_checker(’hjärna’) ska returnera ”2” eftersom ordet ”hjärna” har de två\n",
    "vokalerna ”ä” och ”a”. "
   ]
  },
  {
   "cell_type": "code",
   "execution_count": null,
   "id": "eea4a030-ee4a-4654-9590-9884e3b045f3",
   "metadata": {},
   "outputs": [],
   "source": []
  },
  {
   "cell_type": "markdown",
   "id": "76340720-e135-44d6-9e76-a8ebd0d298bd",
   "metadata": {},
   "source": [
    "# 7.\n",
    "På intervjuer brukar ibland kodtest genomföras. Här är ett exempel på en fråga som hade\n",
    "kunnat dyka upp på ett kodtest.\n",
    "Skapa en funktion som tar två listor som argument och returnerar de gemensamma\n",
    "elementen i listorna i en ny lista.\n",
    "Exempelvis:\n",
    "common_elements([4, ’apple’, 10, ’hi’, 3], ([23 ’apple’, 5, 9, 3]) ska returnera svaret\n",
    "[’apple’, 3]. "
   ]
  },
  {
   "cell_type": "code",
   "execution_count": null,
   "id": "d3b8b9a7-5183-491e-8745-912a4597d97c",
   "metadata": {},
   "outputs": [],
   "source": []
  },
  {
   "cell_type": "markdown",
   "id": "83196ce3-eef3-47ae-bb43-d0d6cd46b6ba",
   "metadata": {},
   "source": [
    "# 8.\n",
    "Många barn tror att de blev till genom att en stork kom och lämnade dem till deras\n",
    "föräldrar. För att undersöka det kan vi kolla på data och det finns en graf enligt figuren\n",
    "nedan. Det verkar alltså finnas ett samband mellan antalet storkar och barnafödsel!?\n",
    "Stämmer påståendet? Använd begreppet ”kausalitet” i ditt svar. "
   ]
  },
  {
   "cell_type": "code",
   "execution_count": null,
   "id": "ac7e8cea-7aa2-4d82-ba91-88ca194567c7",
   "metadata": {},
   "outputs": [],
   "source": []
  },
  {
   "cell_type": "markdown",
   "id": "cd7394b6-8b4c-4194-85d4-302139dc6ac0",
   "metadata": {},
   "source": [
    "# 9.\n",
    "Kim påstår att ”medelvärdet” är ett bättre mått än ”medianvärdet”. Håller du med Kalle? "
   ]
  },
  {
   "cell_type": "code",
   "execution_count": null,
   "id": "32ba172c-efa3-46a6-8b57-19c605cec99b",
   "metadata": {},
   "outputs": [],
   "source": []
  },
  {
   "cell_type": "markdown",
   "id": "2d3ac1d3-3c79-444c-bc12-a9cd3aeeaadf",
   "metadata": {},
   "source": [
    "# 10.\n",
    "Vad används cirkeldiagram för? Ge ett exempel på vad ett företag som Spotify (eller\n",
    "något annat företag som du själv väljer) hade kunnat använda cirkeldiagram för. "
   ]
  },
  {
   "cell_type": "code",
   "execution_count": null,
   "id": "66afb412-8053-46c2-a805-39153387a4fd",
   "metadata": {},
   "outputs": [],
   "source": []
  },
  {
   "cell_type": "markdown",
   "id": "2db2e654-813e-4b16-abc0-d485dfe127b5",
   "metadata": {},
   "source": [
    "# 11.\n",
    "Vad används linjediagram för? Ge ett exempel på vad ett företag som Spotify (eller något\n",
    "annat företag som du själv väljer) hade kunnat använda linjediagram för."
   ]
  },
  {
   "cell_type": "code",
   "execution_count": null,
   "id": "9e23679a-6aa3-4aed-b6ae-f18163d1ea43",
   "metadata": {},
   "outputs": [],
   "source": []
  },
  {
   "cell_type": "markdown",
   "id": "77998c5b-618f-4433-8285-7b23ee6806e6",
   "metadata": {},
   "source": [
    "# 12.\n",
    "Vad används lådagram för?"
   ]
  },
  {
   "cell_type": "code",
   "execution_count": null,
   "id": "5790b280-5838-4c84-bf7f-3f67feb5cb1f",
   "metadata": {},
   "outputs": [],
   "source": []
  }
 ],
 "metadata": {
  "kernelspec": {
   "display_name": "Python 3 (ipykernel)",
   "language": "python",
   "name": "python3"
  },
  "language_info": {
   "codemirror_mode": {
    "name": "ipython",
    "version": 3
   },
   "file_extension": ".py",
   "mimetype": "text/x-python",
   "name": "python",
   "nbconvert_exporter": "python",
   "pygments_lexer": "ipython3",
   "version": "3.12.7"
  }
 },
 "nbformat": 4,
 "nbformat_minor": 5
}
