{
 "cells": [
  {
   "cell_type": "markdown",
   "id": "a195d537-b9a8-42de-99aa-7601fa6af024",
   "metadata": {},
   "source": [
    "# 1. Vad är skillnaden på en tuple och list i Python? Är den ena datatypen bättre än den andra? "
   ]
  },
  {
   "cell_type": "markdown",
   "id": "1258173f-ec45-4776-ab4a-32029646c1b8",
   "metadata": {},
   "source": [
    "En lista är mutuable och en tuple an unmutable."
   ]
  },
  {
   "cell_type": "markdown",
   "id": "0a852b63-cbba-452c-a7c3-390f6c1aaf43",
   "metadata": {},
   "source": [
    "# 2. Vad är en funktion för något? Varför kan funktioner vara användbara?"
   ]
  },
  {
   "cell_type": "markdown",
   "id": "ed309ff6-a23b-4c6e-8468-834147601033",
   "metadata": {},
   "source": [
    "En funktion är en eller flera rader kod som exekveras när funnktionen blir kallad.\n",
    "Man använder funktioner för att inte behöva repetera kod flera gånger."
   ]
  },
  {
   "cell_type": "markdown",
   "id": "bbff1a28-dd36-4451-801d-cdc2eaf20b0a",
   "metadata": {},
   "source": [
    "# 3. Förklara vad nedanstående begrepp, kopplat till klasser, betyder:\n"
   ]
  },
  {
   "cell_type": "markdown",
   "id": "f12ebfab-1b55-485e-8b97-8d9bfa9d599d",
   "metadata": {},
   "source": [
    "### a) Instans\n",
    "En instans är ett objekt av klassen.\n",
    "\n",
    "### b) Attribut\n",
    "Ett attribut är något som beskriver en instans.\n",
    "\n",
    "### c) Metod\n",
    "En metod är en funktion inuti en klass som används av en instans.\n"
   ]
  },
  {
   "cell_type": "markdown",
   "id": "3adcd153-f8a0-49e8-9adf-de4841ba300f",
   "metadata": {},
   "source": [
    "# 4. Vad är Streamlit för något? "
   ]
  },
  {
   "cell_type": "markdown",
   "id": "275fd88f-63d0-48c7-a0b1-ce9c9b0e3a0b",
   "metadata": {},
   "source": [
    "Streamlit är ett python bibliotek som ger en tillgång till att snabbt sätta upp webbappar som oftast är till för visualiseringar av dataanalys."
   ]
  },
  {
   "cell_type": "markdown",
   "id": "debcc043-601f-4a83-85b8-67039f9a5bf1",
   "metadata": {},
   "source": [
    "# 5. I Python ska du nu:\n",
    "a) Skapa en klass som heter BankAccount. Klassen skall ha attributet \"account_holder\"\n",
    "som visar kontoinnehavarens namn samt attributet \"balance\" som visar\n",
    "kontoinnehavarens balans. Klassen skall ha metoden \"deposit()\" för att kunna sätta in\n",
    "pengar på kontot samt metoden \"withdraw()\" för att kunna ta ut pengar från kontot. Om\n",
    "bankinnehavaren försöker ta ut mer pengar än vad som finns på kontot skall\n",
    "meddelandet \"Too low balance\" printas ut.\n",
    "\n",
    "b) Skapa en instans av klassen och testa så klassen funkar så som du förväntar dig. Du\n",
    "kan till exempel prova printa ut attributen, sätta in pengar och ta ut pengar.\n"
   ]
  },
  {
   "cell_type": "code",
   "execution_count": 4,
   "id": "7984fb5b-c7b2-42c1-bf63-32128e933c7f",
   "metadata": {},
   "outputs": [
    {
     "name": "stdout",
     "output_type": "stream",
     "text": [
      "Too low balance. mvh, Swedbank\n",
      "90\n",
      "Kasper\n",
      "Swedbank\n"
     ]
    }
   ],
   "source": [
    "class BankAccount():\n",
    "    \"\"\"Swedbank\"\"\"\n",
    "    bank_name = \"Swedbank\"\n",
    "\n",
    "    def __init__(self, balance, account_holder):\n",
    "        self.balance = balance\n",
    "        self.account_holder = account_holder\n",
    "\n",
    "    def deposit(self, money_in):\n",
    "        self.balance = money_in + self.balance\n",
    "\n",
    "    def withdraw(self, money_out):\n",
    "        if (money_out > self.balance):\n",
    "            print(f\"Too low balance. mvh, {BankAccount.bank_name}\")\n",
    "        else:\n",
    "            self.balance = self.balance - money_out\n",
    "\n",
    "kasper = BankAccount(100, \"Kasper\")\n",
    "kasper.deposit(10)\n",
    "kasper.withdraw(120)\n",
    "kasper.withdraw(20)\n",
    "print(kasper.balance)\n",
    "print(kasper.account_holder)\n",
    "print(kasper.bank_name)\n",
    "# help(kasper)\n",
    "# kasper.__doc__"
   ]
  },
  {
   "cell_type": "markdown",
   "id": "0aae805e-1ac0-4e3b-b446-593035f3512b",
   "metadata": {},
   "source": [
    "# 6.\n",
    "På intervjuer brukar ibland kodtest genomföras. Här är ett exempel på en fråga som hade\n",
    "kunnat dyka upp på ett kodtest.\n",
    "Skapa en Python funktion som beräknar antalet vokaler i en sträng. Vokalerna är:\n",
    "A, E, I, O, U, Y, Å, Ä och Ö.\n",
    "Exempelvis: vowel_checker(’hjärna’) ska returnera ”2” eftersom ordet ”hjärna” har de två\n",
    "vokalerna ”ä” och ”a”. "
   ]
  },
  {
   "cell_type": "code",
   "execution_count": 37,
   "id": "eea4a030-ee4a-4654-9590-9884e3b045f3",
   "metadata": {},
   "outputs": [
    {
     "data": {
      "text/plain": [
       "3"
      ]
     },
     "execution_count": 37,
     "metadata": {},
     "output_type": "execute_result"
    }
   ],
   "source": [
    "vowels = [\"A\", \"a\", \"E\", \"e\", \"I\", \"i\", \"O\", \"o\", \"U\", \"u\", \"Y\", \"y\", \"Å\", \"å\", \"Ä\", \"ä\", \"Ö\", \"ö\"]\n",
    "\n",
    "def vowel_checker(string):\n",
    "    vowel_counter = 0\n",
    "    for vowel in string:\n",
    "        if vowel in vowels:\n",
    "            vowel_counter += 1\n",
    "    return vowel_counter\n",
    "    \n",
    "vowel_checker(\"Aaa\")\n"
   ]
  },
  {
   "cell_type": "markdown",
   "id": "76340720-e135-44d6-9e76-a8ebd0d298bd",
   "metadata": {},
   "source": [
    "# 7.\n",
    "På intervjuer brukar ibland kodtest genomföras. Här är ett exempel på en fråga som hade\n",
    "kunnat dyka upp på ett kodtest.\n",
    "Skapa en funktion som tar två listor som argument och returnerar de gemensamma\n",
    "elementen i listorna i en ny lista.\n",
    "Exempelvis:\n",
    "common_elements([4, ’apple’, 10, ’hi’, 3], ([23 ’apple’, 5, 9, 3]) ska returnera svaret\n",
    "[’apple’, 3]. "
   ]
  },
  {
   "cell_type": "code",
   "execution_count": 5,
   "id": "d3b8b9a7-5183-491e-8745-912a4597d97c",
   "metadata": {},
   "outputs": [
    {
     "data": {
      "text/plain": [
       "{97, 'då'}"
      ]
     },
     "execution_count": 5,
     "metadata": {},
     "output_type": "execute_result"
    }
   ],
   "source": [
    "def common_elements(list_1, list_2):\n",
    "    result = set(list_1)&set(list_2)\n",
    "    return result\n",
    "\n",
    "l1 = [\"hej\", 23, 97, \"då\"]\n",
    "l2 = [\"tjena\", 97, 1, 5, \"då\"]\n",
    "\n",
    "common_elements(l1, l2)"
   ]
  },
  {
   "cell_type": "markdown",
   "id": "83196ce3-eef3-47ae-bb43-d0d6cd46b6ba",
   "metadata": {},
   "source": [
    "# 8.\n",
    "Många barn tror att de blev till genom att en stork kom och lämnade dem till deras\n",
    "föräldrar. För att undersöka det kan vi kolla på data och det finns en graf enligt figuren\n",
    "nedan. Det verkar alltså finnas ett samband mellan antalet storkar och barnafödsel!?\n",
    "Stämmer påståendet? Använd begreppet ”kausalitet” i ditt svar. "
   ]
  },
  {
   "cell_type": "markdown",
   "id": "5445ba39-5119-4eed-b1b5-8bd2ae7ab48a",
   "metadata": {},
   "source": [
    "Datan visar sambandet mellan antal storkar och antal barn som föds, men det betyder inte att det finns kausalitet. Bara för att två saker sker samtidigt betyder det inte att den ena orsakar den andra."
   ]
  },
  {
   "cell_type": "markdown",
   "id": "cd7394b6-8b4c-4194-85d4-302139dc6ac0",
   "metadata": {},
   "source": [
    "# 9.\n",
    "Kim påstår att ”medelvärdet” är ett bättre mått än ”medianvärdet”. Håller du med Kalle? "
   ]
  },
  {
   "cell_type": "markdown",
   "id": "02196798-dc03-4b94-9552-bc054213b267",
   "metadata": {},
   "source": [
    "Det beror helt på vilka och hur många värden du har. Medianvärdet kan vara mycket mer accurate om man\n",
    "har välidgt stora hopp i sina värden tillexempel [1, 2, 3 ,4, 100], nu är median värdet 3. Men medelvärdet\n",
    "är 22, vilket inte jag tycker är särskilt accurate."
   ]
  },
  {
   "cell_type": "markdown",
   "id": "2d3ac1d3-3c79-444c-bc12-a9cd3aeeaadf",
   "metadata": {},
   "source": [
    "# 10.\n",
    "Vad används cirkeldiagram för? Ge ett exempel på vad ett företag som Spotify (eller\n",
    "något annat företag som du själv väljer) hade kunnat använda cirkeldiagram för. "
   ]
  },
  {
   "cell_type": "markdown",
   "id": "194a27c9-e6eb-4336-8a3b-52d6e820ad10",
   "metadata": {},
   "source": [
    "Cirkeldiagram ger en väldigt begripplig vy på hur mycket andel något tar upp då hela cirkeln är 100%. Spotify hade kunnat använda cirkeldiagram för att visa vilka musikgenrer som människor lyssnar på mest, eller vilket land som lyssnar mest på spotify tillexempel."
   ]
  },
  {
   "cell_type": "markdown",
   "id": "2db2e654-813e-4b16-abc0-d485dfe127b5",
   "metadata": {},
   "source": [
    "# 11.\n",
    "Vad används linjediagram för? Ge ett exempel på vad ett företag som Spotify (eller något\n",
    "annat företag som du själv väljer) hade kunnat använda linjediagram för."
   ]
  },
  {
   "cell_type": "markdown",
   "id": "29655af6-3de5-4772-978e-4dce140d58ea",
   "metadata": {},
   "source": [
    "Linjediagram används ofta för att visa förändring över tid tillexempel visa hur mycket pengar ett bolag har omsuttit per år. Så spotify hade kunnat använda det för att visualisera hur många som använder deras tjänst och hur det har ökat eller minskat under åren, samt hur många timmar lyssnade."
   ]
  },
  {
   "cell_type": "markdown",
   "id": "77998c5b-618f-4433-8285-7b23ee6806e6",
   "metadata": {},
   "source": [
    "# 12.\n",
    "Vad används lådagram för?"
   ]
  },
  {
   "cell_type": "markdown",
   "id": "a5a14477-27df-42a8-a222-fba56ff0ab89",
   "metadata": {},
   "source": [
    "Lådagram används för att visa spridningen/fördelningen av datan. Den visar median, övre och nedrekvartal samt det allra minsta och största värdet."
   ]
  }
 ],
 "metadata": {
  "kernelspec": {
   "display_name": "Python 3 (ipykernel)",
   "language": "python",
   "name": "python3"
  },
  "language_info": {
   "codemirror_mode": {
    "name": "ipython",
    "version": 3
   },
   "file_extension": ".py",
   "mimetype": "text/x-python",
   "name": "python",
   "nbconvert_exporter": "python",
   "pygments_lexer": "ipython3",
   "version": "3.12.7"
  }
 },
 "nbformat": 4,
 "nbformat_minor": 5
}
