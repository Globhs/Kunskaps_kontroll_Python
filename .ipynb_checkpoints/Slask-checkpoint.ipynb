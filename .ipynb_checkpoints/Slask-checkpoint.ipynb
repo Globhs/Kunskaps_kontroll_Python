{
 "cells": [
  {
   "cell_type": "code",
   "execution_count": 1,
   "id": "6bd50ab1-8e76-4331-ac6a-6b3b1eae232c",
   "metadata": {},
   "outputs": [],
   "source": [
    "import pandas as pd\n",
    "import numpy as np\n",
    "import matplotlib.pyplot as plt\n",
    "import seaborn as sns\n",
    "\n",
    "from sklearn.linear_model import LinearRegression\n",
    "from sklearn.metrics import r2_score\n",
    "df = pd.read_csv(\"diamonds.csv\")"
   ]
  },
  {
   "cell_type": "code",
   "execution_count": 2,
   "id": "7a7c649a-6c7e-4c01-b7ab-67d6e97f7000",
   "metadata": {},
   "outputs": [
    {
     "name": "stdout",
     "output_type": "stream",
     "text": [
      "<class 'pandas.core.frame.DataFrame'>\n",
      "Index: 53864 entries, 0 to 53917\n",
      "Data columns (total 11 columns):\n",
      " #   Column      Non-Null Count  Dtype  \n",
      "---  ------      --------------  -----  \n",
      " 0   Unnamed: 0  53864 non-null  int64  \n",
      " 1   carat       53864 non-null  float64\n",
      " 2   cut         53864 non-null  object \n",
      " 3   color       53864 non-null  object \n",
      " 4   clarity     53864 non-null  object \n",
      " 5   depth       53864 non-null  float64\n",
      " 6   table       53864 non-null  float64\n",
      " 7   price       53864 non-null  float64\n",
      " 8   x           53864 non-null  float64\n",
      " 9   y           53864 non-null  float64\n",
      " 10  z           53864 non-null  float64\n",
      "dtypes: float64(7), int64(1), object(3)\n",
      "memory usage: 4.9+ MB\n"
     ]
    }
   ],
   "source": [
    "df.dropna(how=\"any\", inplace=True)\n",
    "df.info()"
   ]
  },
  {
   "cell_type": "code",
   "execution_count": 3,
   "id": "8f4cf612-5570-4b63-83f5-dd0e954329b6",
   "metadata": {},
   "outputs": [
    {
     "data": {
      "text/plain": [
       "array(['Ideal', 'Premium', 'Good', 'Very Good', 'Fair'], dtype=object)"
      ]
     },
     "execution_count": 3,
     "metadata": {},
     "output_type": "execute_result"
    }
   ],
   "source": [
    "df[\"cut\"].unique()"
   ]
  },
  {
   "cell_type": "code",
   "execution_count": 4,
   "id": "b93c484b-55c2-45f5-b262-a162e49080c5",
   "metadata": {},
   "outputs": [
    {
     "name": "stdout",
     "output_type": "stream",
     "text": [
      "[4 3 1 ... 4 1 2]\n"
     ]
    }
   ],
   "source": [
    "ordered = pd.Categorical(df[\"cut\"], categories=[\"Fair\", \"Good\", \"Very Good\", \"Premium\", \"Ideal\"], ordered=True)\n",
    "encoded = ordered.codes\n",
    "df[\"cut_encoded\"] = encoded\n",
    "print(encoded)\n"
   ]
  },
  {
   "cell_type": "code",
   "execution_count": 5,
   "id": "089ab724-6498-4bd9-bed4-46d1baf2bb39",
   "metadata": {},
   "outputs": [
    {
     "name": "stdout",
     "output_type": "stream",
     "text": [
      "       Unnamed: 0  carat        cut color clarity  depth  table   price     x  \\\n",
      "0               1   0.23      Ideal     E     SI2   61.5   55.0   326.0  3.95   \n",
      "1               2   0.21    Premium     E     SI1   59.8   61.0   326.0  3.89   \n",
      "2               3   0.23       Good     E     VS1   56.9   65.0   327.0  4.05   \n",
      "4               5   0.31       Good     J     SI2   63.3   58.0   335.0  4.34   \n",
      "5               6   0.24  Very Good     J    VVS2   62.8   57.0   336.0  3.94   \n",
      "...           ...    ...        ...   ...     ...    ...    ...     ...   ...   \n",
      "53913       53914   0.80       Good     G     VS2   64.2   58.0  2753.0  5.84   \n",
      "53914       53915   0.84       Good     I     VS1   63.7   59.0  2753.0  5.94   \n",
      "53915       53916   0.77      Ideal     E     SI2   62.1   56.0  2753.0  5.84   \n",
      "53916       53917   0.74       Good     D     SI1   63.1   59.0  2753.0  5.71   \n",
      "53917       53918   0.90  Very Good     J     SI1   63.2   60.0  2753.0  6.12   \n",
      "\n",
      "          y     z  cut_encoded  \n",
      "0      3.98  2.43            4  \n",
      "1      3.84  2.31            3  \n",
      "2      4.07  2.31            1  \n",
      "4      4.35  2.75            1  \n",
      "5      3.96  2.48            2  \n",
      "...     ...   ...          ...  \n",
      "53913  5.81  3.74            1  \n",
      "53914  5.90  3.77            1  \n",
      "53915  5.86  3.63            4  \n",
      "53916  5.74  3.61            1  \n",
      "53917  6.09  3.86            2  \n",
      "\n",
      "[53864 rows x 12 columns]\n"
     ]
    }
   ],
   "source": [
    "print(df)"
   ]
  },
  {
   "cell_type": "code",
   "execution_count": 6,
   "id": "1627c563-ed58-48a9-aa04-c876dc519465",
   "metadata": {},
   "outputs": [
    {
     "name": "stdout",
     "output_type": "stream",
     "text": [
      "-191.12\n",
      "405.12\n",
      "-355.68\n"
     ]
    }
   ],
   "source": [
    "# Ta ut kolumnen cut och lägg dem i en pd.categorical som förstår skilland på deras värde och ordning\n",
    "# definera ordningen från \"sämst till bäst\" genom att sätta \"ordered=true\"\n",
    "ordered_cut = pd.Categorical(df[\"cut\"], categories=[\"Fair\", \"Good\", \"Very Good\", \"Premium\", \"Ideal\"], ordered=True)\n",
    "ordered_color = pd.Categorical(df[\"color\"], categories=[\"D\", \"E\", \"F\", \"G\", \"H\", \"I\", \"J\"], ordered=True)\n",
    "ordered_clarity = pd.Categorical(df[\"clarity\"], categories=[\"I1\", \"SI2\", \"SI1\", \"VS2\", \"VS1\", \"VVS2\", \"VVS1\", \"IF\"], ordered=True)\n",
    "# Genom att sätta .codes byter jag ut varenda värde, till exmepel \"fair\" -> 0, \"good\" -> 1 osv.\n",
    "encoded_cut = ordered_cut.codes\n",
    "encoded_color = ordered_color.codes\n",
    "encoded_clarity = ordered_clarity.codes\n",
    "# Här lägger jag in detta som en ny kolumn i dataframen så jag kan lätt komma åt den till framtida uträkningar.\n",
    "df[\"cut_encoded\"] = encoded_cut\n",
    "df[\"color_encoded\"] = encoded_color\n",
    "df[\"clarity_encoded\"] = encoded_clarity\n",
    "df[\"volume\"] = df[\"x\"] * df[\"y\"] * df[\"z\"]\n",
    "price = df[\"price\"].values\n",
    "\n",
    "\n",
    "\n",
    "\n",
    "\n",
    "###########################################################################################################\n",
    "# Omformaterar carat till en 2D-array eftersom .fit() kräver indata med formen (samples, features).\n",
    "# Detta behöver bara göras då man bara har en feature, ifall beräknar mote flera features så är den redan i ett 2D format.\n",
    "depth = df[\"depth\"].values.reshape(-1, 1)\n",
    "cut_encoded = df[\"cut_encoded\"].values.reshape(-1, 1)\n",
    "color_encoded = df[\"color_encoded\"].values.reshape(-1, 1)\n",
    "clarity_encoded = df[\"clarity_encoded\"].values.reshape(-1, 1)\n",
    "\n",
    "\n",
    "# Skapa ett tomt objekt från klassen LinearRegression() så att vi kan använda fit()\n",
    "depth_model = LinearRegression()\n",
    "cut_model = LinearRegression()\n",
    "color_model = LinearRegression()\n",
    "clarity_model = LinearRegression()\n",
    "\n",
    "# Beräknar och hittar det linjära sambandet mellan carat och pris.\n",
    "cut_model.fit(cut_encoded, price)\n",
    "color_model.fit(color_encoded, price)\n",
    "clarity_model.fit(clarity_encoded, price)\n",
    "cut_slope = cut_model.coef_[0].round(2)\n",
    "color_slope = color_model.coef_[0].round(2)\n",
    "clarity_slope = clarity_model.coef_[0].round(2)\n",
    "print(cut_slope)\n",
    "print(color_slope)\n",
    "print(clarity_slope)"
   ]
  },
  {
   "cell_type": "code",
   "execution_count": 7,
   "id": "07c49aee-7e84-4daf-92ab-e1ff897afa26",
   "metadata": {},
   "outputs": [
    {
     "data": {
      "text/plain": [
       "cut\n",
       "Fair         4362.234599\n",
       "Good         3930.686531\n",
       "Ideal        3459.228760\n",
       "Premium      4587.116669\n",
       "Very Good    3982.911080\n",
       "Name: price, dtype: float64"
      ]
     },
     "execution_count": 7,
     "metadata": {},
     "output_type": "execute_result"
    }
   ],
   "source": [
    "df.groupby(\"cut\")[\"price\"].mean()"
   ]
  },
  {
   "cell_type": "code",
   "execution_count": 16,
   "id": "b59425f5-ff4d-4e13-93ff-e33ab5d3a769",
   "metadata": {},
   "outputs": [
    {
     "name": "stdout",
     "output_type": "stream",
     "text": [
      "R^2 score: 0.904\n",
      "cut_encoded: 147.39\n",
      "carat: 8585.76\n",
      "color_encoded: -318.68\n",
      "clarity_encoded: 524.00\n",
      "depth: -26.93\n",
      "volume: 1.22\n"
     ]
    }
   ],
   "source": [
    "# Definera alla features samt target\n",
    "X = df[[\"cut_encoded\", \"carat\", \"color_encoded\", \"clarity_encoded\", \"depth\", \"volume\"]] \n",
    "Y = df[\"price\"]\n",
    "\n",
    "# Skapa ett tomt objekt från klassen LinearRegression() så att vi kan använda fit()\n",
    "model = LinearRegression()\n",
    "# Beräknar och hittar det linjära sambandet mellan alla features och price.\n",
    "model.fit(X, Y) \n",
    "\n",
    "features = [\"cut_encoded\", \"carat\", \"color_encoded\", \"clarity_encoded\", \"depth\", \"volume\"]\n",
    "\n",
    "r2 = model.score(X, y)\n",
    "print(f\"R^2 score: {r2:.3f}\")\n",
    "\n",
    "for feature, coef in zip(features, model.coef_):\n",
    "    print(f\"{feature}: {coef:.2f}\")\n"
   ]
  },
  {
   "cell_type": "code",
   "execution_count": 10,
   "id": "2d49492a-d57e-4b9c-b44b-f135fc210daf",
   "metadata": {},
   "outputs": [],
   "source": [
    "## TODO LIST\n",
    "# Plott in streamlit\n",
    "## QUALITY CHECK DATA\n",
    "# Fixa färgerna så att dem är rätt, plotta båda två\n",
    "# Titta små dimensioner mot carat\n"
   ]
  },
  {
   "cell_type": "code",
   "execution_count": 20,
   "id": "18abdac7-a393-41fb-a956-32dc0eb41e4a",
   "metadata": {},
   "outputs": [
    {
     "name": "stdout",
     "output_type": "stream",
     "text": [
      "LinearRegression()\n"
     ]
    }
   ],
   "source": [
    "x = df[[\"carat\"]]\n",
    "model.fit(x, Y)\n",
    "print()"
   ]
  },
  {
   "cell_type": "code",
   "execution_count": null,
   "id": "c11247cc-78a5-4766-94ae-3a237d65c7c6",
   "metadata": {},
   "outputs": [],
   "source": []
  }
 ],
 "metadata": {
  "kernelspec": {
   "display_name": "Python 3 (ipykernel)",
   "language": "python",
   "name": "python3"
  },
  "language_info": {
   "codemirror_mode": {
    "name": "ipython",
    "version": 3
   },
   "file_extension": ".py",
   "mimetype": "text/x-python",
   "name": "python",
   "nbconvert_exporter": "python",
   "pygments_lexer": "ipython3",
   "version": "3.12.7"
  }
 },
 "nbformat": 4,
 "nbformat_minor": 5
}
